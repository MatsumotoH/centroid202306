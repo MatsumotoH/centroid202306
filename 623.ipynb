{
 "cells": [
  {
   "cell_type": "code",
   "execution_count": 1,
   "metadata": {},
   "outputs": [],
   "source": [
    "d1 = {11: 'ROOM2OUT'}"
   ]
  },
  {
   "cell_type": "code",
   "execution_count": 3,
   "metadata": {},
   "outputs": [
    {
     "name": "stdout",
     "output_type": "stream",
     "text": [
      "ROOM2OUT\n"
     ]
    }
   ],
   "source": [
    "for line in d1.items():\n",
    "  objectID = line[1]\n",
    "  print(objectID)"
   ]
  },
  {
   "cell_type": "code",
   "execution_count": null,
   "metadata": {},
   "outputs": [],
   "source": [
    "d = {11: 'OUT'}\n",
    "car_counts = {}\n",
    "\n",
    "for car_id, status in d.items():\n",
    "    # 車のIDが辞書にない場合、新しいエントリを作成\n",
    "    if car_id not in car_counts:\n",
    "        car_counts[car_id] = {'in': 0, 'out': 0}\n",
    "    \n",
    "    # 入庫または出庫の回数をカウント\n",
    "    car_counts[car_id][status.lower()] += 1\n",
    "\n",
    "# 各車のIDごとに、累計が多い方を判断\n",
    "for car_id, counts in car_counts.items():\n",
    "    if counts['in'] > counts['out']:\n",
    "        print(f'Car {car_id} has entered more times than it has exited.')\n",
    "    elif counts['out'] > counts['in']:\n",
    "        print(f'Car {car_id} has exited more times than it has entered.')\n",
    "    else:\n",
    "        print(f'Car {car_id} has entered and exited the same number of times.')\n"
   ]
  },
  {
   "cell_type": "code",
   "execution_count": null,
   "metadata": {},
   "outputs": [],
   "source": [
    "d = {11: 'OUT', 12: 'IN', 13: 'OUT', 14: 'IN'}\n",
    "car_counts = {}\n",
    "total_in = 0\n",
    "total_out = 0\n",
    "\n",
    "for car_id, status in d.items():\n",
    "    # 車のIDが辞書にない場合、新しいエントリを作成\n",
    "    if car_id not in car_counts:\n",
    "        car_counts[car_id] = {'in': 0, 'out': 0}\n",
    "    \n",
    "    # 入庫または出庫の回数をカウント\n",
    "    car_counts[car_id][status.lower()] += 1\n",
    "    \n",
    "    # トータルの入庫と出庫の回数をカウント\n",
    "    if status.lower() == 'in':\n",
    "        total_in += 1\n",
    "    else:\n",
    "        total_out += 1\n",
    "\n",
    "# 各車のIDごとに、累計が多い方を判断\n",
    "for car_id, counts in car_counts.items():\n",
    "    if counts['in'] > counts['out']:\n",
    "        print(f'Car {car_id} has entered more times than it has exited.')\n",
    "    elif counts['out'] > counts['in']:\n",
    "        print(f'Car {car_id} has exited more times than it has entered.')\n",
    "    else:\n",
    "        print(f'Car {car_id} has entered and exited the same number of times.')\n",
    "\n",
    "# トータルの入庫と出庫の回数を表示\n",
    "print(f'IN: {total_in}')\n",
    "print(f'OUT: {total_out}')"
   ]
  },
  {
   "cell_type": "code",
   "execution_count": null,
   "metadata": {},
   "outputs": [],
   "source": [
    "car_counts = {}\n",
    "total_in = 0\n",
    "total_out = 0"
   ]
  },
  {
   "attachments": {},
   "cell_type": "markdown",
   "metadata": {},
   "source": []
  }
 ],
 "metadata": {
  "kernelspec": {
   "display_name": "sudo",
   "language": "python",
   "name": "python3"
  },
  "language_info": {
   "codemirror_mode": {
    "name": "ipython",
    "version": 3
   },
   "file_extension": ".py",
   "mimetype": "text/x-python",
   "name": "python",
   "nbconvert_exporter": "python",
   "pygments_lexer": "ipython3",
   "version": "3.9.12"
  },
  "orig_nbformat": 4
 },
 "nbformat": 4,
 "nbformat_minor": 2
}
