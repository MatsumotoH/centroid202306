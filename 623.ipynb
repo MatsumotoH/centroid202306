{
 "cells": [
  {
   "cell_type": "code",
   "execution_count": 1,
   "metadata": {},
   "outputs": [],
   "source": [
    "d1 = {11: 'ROOM2OUT'}"
   ]
  },
  {
   "cell_type": "code",
   "execution_count": 2,
   "metadata": {},
   "outputs": [
    {
     "data": {
      "text/plain": [
       "dict_items([(11, 'ROOM2OUT')])"
      ]
     },
     "execution_count": 2,
     "metadata": {},
     "output_type": "execute_result"
    }
   ],
   "source": [
    "d1.items()"
   ]
  },
  {
   "cell_type": "code",
   "execution_count": 3,
   "metadata": {},
   "outputs": [
    {
     "name": "stdout",
     "output_type": "stream",
     "text": [
      "ROOM2OUT\n"
     ]
    }
   ],
   "source": [
    "for line in d1.items():\n",
    "  objectID = line[1]\n",
    "  print(objectID)"
   ]
  },
  {
   "cell_type": "code",
   "execution_count": null,
   "metadata": {},
   "outputs": [],
   "source": [
    "d = {11: 'OUT'}\n",
    "car_counts = {}\n",
    "\n",
    "for car_id, status in d.items():\n",
    "    # 車のIDが辞書にない場合、新しいエントリを作成\n",
    "    if car_id not in car_counts:\n",
    "        car_counts[car_id] = {'in': 0, 'out': 0}\n",
    "    \n",
    "    # 入庫または出庫の回数をカウント\n",
    "    car_counts[car_id][status.lower()] += 1\n",
    "\n",
    "# 各車のIDごとに、累計が多い方を判断\n",
    "for car_id, counts in car_counts.items():\n",
    "    if counts['in'] > counts['out']:\n",
    "        print(f'Car {car_id} has entered more times than it has exited.')\n",
    "    elif counts['out'] > counts['in']:\n",
    "        print(f'Car {car_id} has exited more times than it has entered.')\n",
    "    else:\n",
    "        print(f'Car {car_id} has entered and exited the same number of times.')\n"
   ]
  },
  {
   "cell_type": "code",
   "execution_count": null,
   "metadata": {},
   "outputs": [],
   "source": [
    "d = {11: 'OUT', 12: 'IN', 13: 'OUT', 14: 'IN'}\n",
    "car_counts = {}\n",
    "total_in = 0\n",
    "total_out = 0\n",
    "\n",
    "for car_id, status in d.items():\n",
    "    # 車のIDが辞書にない場合、新しいエントリを作成\n",
    "    if car_id not in car_counts:\n",
    "        car_counts[car_id] = {'in': 0, 'out': 0}\n",
    "    \n",
    "    # 入庫または出庫の回数をカウント\n",
    "    car_counts[car_id][status.lower()] += 1\n",
    "    \n",
    "    # トータルの入庫と出庫の回数をカウント\n",
    "    if status.lower() == 'in':\n",
    "        total_in += 1\n",
    "    else:\n",
    "        total_out += 1\n",
    "\n",
    "# 各車のIDごとに、累計が多い方を判断\n",
    "for car_id, counts in car_counts.items():\n",
    "    if counts['in'] > counts['out']:\n",
    "        print(f'Car {car_id} has entered more times than it has exited.')\n",
    "    elif counts['out'] > counts['in']:\n",
    "        print(f'Car {car_id} has exited more times than it has entered.')\n",
    "    else:\n",
    "        print(f'Car {car_id} has entered and exited the same number of times.')\n",
    "\n",
    "# トータルの入庫と出庫の回数を表示\n",
    "print(f'IN: {total_in}')\n",
    "print(f'OUT: {total_out}')"
   ]
  },
  {
   "cell_type": "code",
   "execution_count": null,
   "metadata": {},
   "outputs": [],
   "source": [
    "car_counts = {}\n",
    "total_in = 0\n",
    "total_out = 0"
   ]
  },
  {
   "cell_type": "code",
   "execution_count": 29,
   "metadata": {},
   "outputs": [
    {
     "name": "stdout",
     "output_type": "stream",
     "text": [
      "dict_items([(25, 'IN')])\n"
     ]
    }
   ],
   "source": [
    "d1 = {25: 'IN'}\n",
    "print(d1.items())"
   ]
  },
  {
   "cell_type": "code",
   "execution_count": 30,
   "metadata": {},
   "outputs": [
    {
     "name": "stdout",
     "output_type": "stream",
     "text": [
      "{25: 'IN'}\n"
     ]
    }
   ],
   "source": [
    "print(d1)"
   ]
  },
  {
   "cell_type": "code",
   "execution_count": 31,
   "metadata": {},
   "outputs": [
    {
     "name": "stdout",
     "output_type": "stream",
     "text": [
      "25 IN\n"
     ]
    }
   ],
   "source": [
    "for car_id, status in d1.items():\n",
    "  print(car_id, status)"
   ]
  },
  {
   "cell_type": "code",
   "execution_count": 32,
   "metadata": {},
   "outputs": [],
   "source": [
    "car_counts = {}"
   ]
  },
  {
   "cell_type": "code",
   "execution_count": 33,
   "metadata": {},
   "outputs": [],
   "source": [
    "total_in = 0\n",
    "total_out = 0"
   ]
  },
  {
   "cell_type": "code",
   "execution_count": 34,
   "metadata": {},
   "outputs": [
    {
     "name": "stdout",
     "output_type": "stream",
     "text": [
      "{25: 'IN'}\n"
     ]
    }
   ],
   "source": [
    "print(d1)"
   ]
  },
  {
   "cell_type": "code",
   "execution_count": 28,
   "metadata": {},
   "outputs": [
    {
     "name": "stdout",
     "output_type": "stream",
     "text": [
      "Total IN:  0\n",
      "Total OUT: 0\n"
     ]
    }
   ],
   "source": [
    "if car_id not in car_counts:\n",
    "                    car_counts[car_id] = {'in': 0, 'out': 0}\n",
    "                    # Count the number of times the vehicle has entered or exited\n",
    "                    car_counts[car_id][status.lower()] += 1\n",
    "                    # Count the total number of statuses of the one with the higher cumulative total for each car ID.\n",
    "                    for car_id, counts in car_counts.items():\n",
    "                        if counts['in'] > counts['out']:\n",
    "                            total_in += 1\n",
    "                        else:\n",
    "                            total_out += 1\n",
    "                # Total number of statuses \n",
    "print('Total IN: ', total_in)\n",
    "print('Total OUT:', total_out)"
   ]
  },
  {
   "cell_type": "code",
   "execution_count": 19,
   "metadata": {},
   "outputs": [
    {
     "name": "stdout",
     "output_type": "stream",
     "text": [
      "{25: {'in': 1, 'out': 0}}\n"
     ]
    }
   ],
   "source": [
    "print(car_counts)"
   ]
  },
  {
   "cell_type": "code",
   "execution_count": null,
   "metadata": {},
   "outputs": [],
   "source": [
    "\n",
    "                \n",
    "for car_id, status in d1.items():\n",
    "  # 車のIDが辞書にない場合、新しいエントリを作成\n",
    "  if car_id not in car_counts:\n",
    "      car_counts[car_id] = {'in': 0, 'out': 0}\n",
    "  \n",
    "  # 入庫または出庫の回数をカウント\n",
    "  car_counts[car_id][status.lower()] += 1"
   ]
  },
  {
   "cell_type": "code",
   "execution_count": 42,
   "metadata": {},
   "outputs": [
    {
     "name": "stdout",
     "output_type": "stream",
     "text": [
      "Total IN:  0\n",
      "Total OUT: 1\n",
      "{18: {'in': 0, 'out': 1}}\n"
     ]
    }
   ],
   "source": [
    "car_counts = {}\n",
    "total_in = 0\n",
    "total_out = 0\n",
    "d1 = {18: 'IN', 18: 'IN', 18: 'OUT'}\n",
    "for car_id, status in d1.items():\n",
    "  if car_id not in car_counts:\n",
    "                    car_counts[car_id] = {'in': 0, 'out': 0}\n",
    "                    # Count the number of times the vehicle has entered or exited\n",
    "                    car_counts[car_id][status.lower()] += 1\n",
    "                    # Count the total number of statuses of the one with the higher cumulative total for each car ID.\n",
    "                    for car_id, counts in car_counts.items():\n",
    "                        if counts['in'] > counts['out']:\n",
    "                            total_in += 1\n",
    "                        else:\n",
    "                            total_out += 1\n",
    "                # Total number of statuses \n",
    "print('Total IN: ', total_in)\n",
    "print('Total OUT:', total_out)\n",
    "print(car_counts)"
   ]
  }
 ],
 "metadata": {
  "kernelspec": {
   "display_name": "sudo",
   "language": "python",
   "name": "python3"
  },
  "language_info": {
   "codemirror_mode": {
    "name": "ipython",
    "version": 3
   },
   "file_extension": ".py",
   "mimetype": "text/x-python",
   "name": "python",
   "nbconvert_exporter": "python",
   "pygments_lexer": "ipython3",
   "version": "3.9.12"
  },
  "orig_nbformat": 4
 },
 "nbformat": 4,
 "nbformat_minor": 2
}
