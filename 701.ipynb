{
 "cells": [
  {
   "cell_type": "code",
   "execution_count": 3,
   "metadata": {},
   "outputs": [
    {
     "name": "stdout",
     "output_type": "stream",
     "text": [
      "[(1, 10), (1, 20), (2, 30), (2, 30), (3, 8)]\n"
     ]
    }
   ],
   "source": [
    "carlist = []  # car_idとcentroidを格納するリスト\n",
    "\n",
    "# データの追加（仮の例）\n",
    "car_id = 1\n",
    "centroid = 10\n",
    "carlist.append((car_id, centroid))\n",
    "\n",
    "car_id = 1\n",
    "centroid = 20\n",
    "carlist.append((car_id, centroid))\n",
    "\n",
    "car_id = 2\n",
    "centroid = 30\n",
    "carlist.append((car_id, centroid))\n",
    "\n",
    "car_id = 2\n",
    "centroid = 30\n",
    "carlist.append((car_id, centroid))\n",
    "\n",
    "car_id = 3\n",
    "centroid = 8\n",
    "carlist.append((car_id, centroid))\n",
    "\n",
    "# car_idごとのcentroidの一番最後の値から一番最初の値を求める\n",
    "# car_id = 1  # 対象のcar_id\n",
    "# filtered_list = [centroid for (id, centroid) in carlist if id == car_id]\n",
    "# result = filtered_list[-1] - filtered_list[0]\n",
    "\n",
    "print(carlist)  # 結果の出力\n"
   ]
  },
  {
   "cell_type": "code",
   "execution_count": 14,
   "metadata": {},
   "outputs": [
    {
     "name": "stdout",
     "output_type": "stream",
     "text": [
      "1 30\n",
      "2 60\n",
      "3 8\n"
     ]
    }
   ],
   "source": [
    "# carlistの中の全てのcar_idごとの総和を求める\n",
    "for car_id in range(1, 4):\n",
    "    filtered_list = [centroid for (id, centroid) in carlist if id == car_id]\n",
    "    result = sum(filtered_list)\n",
    "    print(car_id,result)\n",
    "  "
   ]
  },
  {
   "cell_type": "code",
   "execution_count": 16,
   "metadata": {},
   "outputs": [
    {
     "name": "stdout",
     "output_type": "stream",
     "text": [
      "1 30\n",
      "1 30\n",
      "2 60\n",
      "2 60\n",
      "3 8\n"
     ]
    }
   ],
   "source": [
    "for (car_id, centroid) in carlist:\n",
    "    filtered_list = [c for (id, c) in carlist if id == car_id]\n",
    "    result = sum(filtered_list)\n",
    "    print(car_id, result)\n"
   ]
  },
  {
   "cell_type": "code",
   "execution_count": 18,
   "metadata": {},
   "outputs": [
    {
     "name": "stdout",
     "output_type": "stream",
     "text": [
      "1 10\n",
      "1 20\n",
      "2 30\n",
      "2 30\n",
      "3 8\n"
     ]
    }
   ],
   "source": [
    "# car_idごとのcentroidの値を取り出す。\n",
    "for (car_id, centroid) in carlist:\n",
    "  \n",
    "    print(car_id, centroid)"
   ]
  }
 ],
 "metadata": {
  "kernelspec": {
   "display_name": "sudo",
   "language": "python",
   "name": "python3"
  },
  "language_info": {
   "codemirror_mode": {
    "name": "ipython",
    "version": 3
   },
   "file_extension": ".py",
   "mimetype": "text/x-python",
   "name": "python",
   "nbconvert_exporter": "python",
   "pygments_lexer": "ipython3",
   "version": "3.9.12"
  },
  "orig_nbformat": 4
 },
 "nbformat": 4,
 "nbformat_minor": 2
}
