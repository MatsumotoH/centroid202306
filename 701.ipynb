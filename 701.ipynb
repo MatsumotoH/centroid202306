{
 "cells": [
  {
   "cell_type": "code",
   "execution_count": null,
   "metadata": {},
   "outputs": [],
   "source": [
    "carList = []  # 空のリストを作成\n",
    "\n",
    "objectID = 0\n",
    "centroid0 = 10\n",
    "\n",
    "while centroid0 < 20:\n",
    "    # 新しい要素を作成し、変数の値を格納\n",
    "    new_element = {\"objectID\": objectID, \"centroid0\": centroid0}\n",
    "\n",
    "    # 新しい要素をcarListリストに追加\n",
    "    carList.append(new_element)\n",
    "\n",
    "    # centroid0の値を更新する\n",
    "    centroid0 += 2\n",
    "    objectID += 1\n",
    "\n",
    "# carListの内容を表示\n",
    "for car in carList:\n",
    "    print(car)\n"
   ]
  }
 ],
 "metadata": {
  "language_info": {
   "name": "python"
  },
  "orig_nbformat": 4
 },
 "nbformat": 4,
 "nbformat_minor": 2
}
